{
 "cells": [
  {
   "cell_type": "code",
   "execution_count": 94,
   "id": "c26427e5-c49f-4a27-b8d5-88bf90bddd20",
   "metadata": {},
   "outputs": [
    {
     "name": "stdout",
     "output_type": "stream",
     "text": [
      "[[['006' '006_1_2' 3]\n",
      "  ['006' '006_1_3' 3]\n",
      "  ['006' '006_1_4' 3]\n",
      "  ['006' '006_1_5' 3]\n",
      "  ['006' '006_1_6' 7]\n",
      "  ['006' '006_2_4' 3]\n",
      "  ['006' '006_3_4' 5]\n",
      "  ['006' '006_3_5' 2]]]\n"
     ]
    }
   ],
   "source": [
    "import pandas as pd\n",
    "import numpy as np\n",
    "def loading_samm_labels(objective_flag):\n",
    "    # loading_samm_labels(root_db_path, dB, objective_flag)\n",
    "#     label_filename = 'SAMM_Micro_FACS_Codes_v2.xlsx'\n",
    "\n",
    "#     label_path = root_db_path + dB + \"/\" + label_filename\n",
    "    label_file = pd.read_excel(\"SAMM_Micro_FACS_Codes_v2.xlsx\", converters={'Subject': lambda x: str(x)})\n",
    "    # remove class 6, 7\n",
    "    if objective_flag:\n",
    "        # print(objective_flag)\n",
    "        label_file = label_file.loc[label_file['Objective Classes'] < 6]\n",
    "    subject = label_file[['Subject']]\n",
    "    filename = label_file[['Filename']]\n",
    "    label = label_file[['Estimated Emotion']]\n",
    "    objective_classes = label_file[['Objective Classes']]\n",
    "    onset = label_file[['Onset Frame']]\n",
    "    apex = label_file[['Apex Frame']]\n",
    "    offset = label_file[['Offset Frame']]\n",
    "    # print(label)\n",
    "    return subject, filename, label, objective_classes, onset, apex, offset\n",
    "\n",
    "\n",
    "def loading_samm_table(objective_flag):\n",
    "    # loading_samm_table(root_db_path, dB, objective_flag):\n",
    "    subject, filename, label, objective_classessubject, filename, label, objective_classes, onset, apex, offset = loading_samm_labels(True)\n",
    "    # print(\"subject:%s filename:%s label:%s objective_classes:%s\" %(subject, filename, label, objective_classes))\n",
    "    subject = subject.to_numpy()\n",
    "    filename = filename.to_numpy()\n",
    "    label = label.to_numpy()\n",
    "    objective_classes = objective_classes.to_numpy()\n",
    "    table = np.transpose( np.array( [filename, label] ) )\n",
    "    table_objective = np.transpose( np.array( [subject, filename, objective_classes] ) )\n",
    "    # print(table)\n",
    "    return table, table_objective\n",
    "\n",
    "subject, filename, label, objective_classes ,  onset, apex, offset= loading_samm_labels(True)\n",
    "F=[]\n",
    "for (idx1, onsetf), (idx2, apexf) in zip(onset.iterrows(), apex.iterrows()):\n",
    "    gap = (apexf.values[0] - onsetf.values[0])/5+1\n",
    "    for i in range(0, 4):\n",
    "        frame = int(min((onsetf.values[0]+gap*i), apexf.values[0]))\n",
    "        F.append(frame)\n",
    "        # Checking if a frame is out-of-boundaries of onset and apex. Just incase yknow?\n",
    "        if(frame < onsetf.values[0] or frame > apexf.values[0]):\n",
    "            print(\"Frame out of bound:\", frame)\n",
    "    F.append(apexf.values[0])\n",
    "# print(F[:5])"
   ]
  },
  {
   "cell_type": "code",
   "execution_count": null,
   "id": "73e8e253-1d01-4bdf-b986-a0dc0ae226c4",
   "metadata": {},
   "outputs": [],
   "source": []
  }
 ],
 "metadata": {
  "kernelspec": {
   "display_name": "Python 3 (ipykernel)",
   "language": "python",
   "name": "python3"
  },
  "language_info": {
   "codemirror_mode": {
    "name": "ipython",
    "version": 3
   },
   "file_extension": ".py",
   "mimetype": "text/x-python",
   "name": "python",
   "nbconvert_exporter": "python",
   "pygments_lexer": "ipython3",
   "version": "3.10.3"
  }
 },
 "nbformat": 4,
 "nbformat_minor": 5
}
