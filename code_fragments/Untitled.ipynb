{
 "cells": [
  {
   "cell_type": "code",
   "execution_count": 1,
   "id": "8dbae6ef-5a93-48bb-88f6-0df66349382a",
   "metadata": {
    "tags": []
   },
   "outputs": [],
   "source": [
    "# import cv2\n",
    "  \n",
    "# # Read the input image\n",
    "# img = cv2.imread('face.jpeg')\n",
    "  \n",
    "# # Convert into grayscale\n",
    "# gray = cv2.cvtColor(img, cv2.COLOR_BGR2GRAY)\n",
    "  \n",
    "# # Load the cascade\n",
    "# face_cascade = cv2.CascadeClassifier('haarcascade_frontalface_alt_tree.xml')\n",
    "  \n",
    "# # Detect faces\n",
    "# faces = face_cascade.detectMultiScale(gray, 1.1, 4)\n",
    "  \n",
    "# # Draw rectangle around the faces and crop the faces\n",
    "# for (x, y, w, h) in faces:\n",
    "#     cv2.rectangle(img, (x, y), (x+w, y+h), (0, 0, 255), 2)\n",
    "#     faces = img[y:y + h, x:x + w]\n",
    "#     cv2.imwrite('face.jpg', faces)\n",
    "\n",
    "\n",
    "# vidcap = cv2.VideoCapture('face_detection_Trim.mp4')\n",
    "# success,image = vidcap.read()\n",
    "# count = 0\n",
    "\n",
    "# # Load the cascade\n",
    "# face_cascade = cv2.CascadeClassifier('haarcascade_frontalface_alt_tree.xml')\n",
    "\n",
    "# while success:\n",
    "#     # Convert into grayscale\n",
    "#     # gray = cv2.cvtColor(image, cv2.COLOR_BGR2GRAY)\n",
    "#     # Detect faces\n",
    "#     # faces = face_cascade.detectMultiScale(gray, 1.1, 4)\n",
    "#     cv2.imwrite(\"ff\\frame%d.jpg\" % count, image)     # save frame as JPEG file  \n",
    "#     success,image = vidcap.read()\n",
    "#     count += 1\n",
    "import cv2\n",
    "vidcap = cv2.VideoCapture('face_detection_Trim.mp4')\n",
    "success,image = vidcap.read()\n",
    "count = 0\n",
    "while success:\n",
    "  cv2.imwrite(\"frame%d.jpg\" % count, image)     # save frame as JPEG file      \n",
    "  success,image = vidcap.read()\n",
    "  count += 1\n",
    "# import torch\n",
    "# x = torch.tensor([[1,2,3], [4,5,6], [7,8,9]])\n",
    "# print(x.index(1)[2])"
   ]
  },
  {
   "cell_type": "code",
   "execution_count": null,
   "id": "ac7ea3ab-7630-4590-aaf0-de4ace7f6af8",
   "metadata": {},
   "outputs": [],
   "source": []
  }
 ],
 "metadata": {
  "kernelspec": {
   "display_name": "Python 3 (ipykernel)",
   "language": "python",
   "name": "python3"
  },
  "language_info": {
   "codemirror_mode": {
    "name": "ipython",
    "version": 3
   },
   "file_extension": ".py",
   "mimetype": "text/x-python",
   "name": "python",
   "nbconvert_exporter": "python",
   "pygments_lexer": "ipython3",
   "version": "3.10.3"
  }
 },
 "nbformat": 4,
 "nbformat_minor": 5
}
