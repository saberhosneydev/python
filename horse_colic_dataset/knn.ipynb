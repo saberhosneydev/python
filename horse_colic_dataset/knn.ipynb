{
 "cells": [
  {
   "cell_type": "code",
   "execution_count": 1,
   "id": "fba5156a-20bb-4186-9292-4e83d5703570",
   "metadata": {},
   "outputs": [],
   "source": [
    "import matplotlib.pyplot as plt\n",
    "import numpy as np\n",
    "import pandas as pd\n",
    "import seaborn as sns\n",
    "import keras\n",
    "from keras.utils import np_utils\n",
    "from sklearn import preprocessing\n",
    "from sklearn.model_selection import train_test_split\n",
    "from sklearn.preprocessing import LabelEncoder\n",
    "from sklearn.neighbors import KNeighborsClassifier\n",
    "from sklearn.model_selection import GridSearchCV\n",
    "from sklearn.metrics import confusion_matrix, ConfusionMatrixDisplay, classification_report\n",
    "\n",
    "colnames = ['surgery', 'age', 'hospital number', 'rectal temperature', 'pulse', 'respiratory rate', 'temperature of extremities', 'peripheral pulse', 'mucous membranes', 'capillary refill time', 'pain', 'peristalsis', 'abdominal distension', 'nasogastric tube',\n",
    "            'nasogastric reflux', 'nasogastric reflux PH', 'rectal examination', 'abdomen', 'packed cell volume', 'total protein', 'abdominocentesis appearance', 'abdomcentesis total protein', 'outcome', 'surgical lesion', 'lesion type', 'lesion type2', 'lesion type3', 'pathology data']\n",
    "dropped_colnames = ['nasogastric reflux PH', 'abdominocentesis appearance', 'abdomcentesis total protein', 'hospital number',\n",
    "                    'abdomen', 'nasogastric tube', 'nasogastric reflux', 'rectal examination', 'lesion type2', 'lesion type3']\n",
    "train_colnames = set(colnames).difference(dropped_colnames)\n",
    "train_colnames = [x for x in train_colnames if x != \"outcome\"]\n",
    "cat_colnames = ['surgery', 'age', 'temperature of extremities', 'peripheral pulse', 'mucous membranes', 'capillary refill time', 'pain', 'peristalsis', 'abdominal distension',\n",
    "                'surgical lesion', 'pathology data']\n",
    "numerical_colnames = ['rectal temperature', 'pulse', 'respiratory rate',\n",
    "                      'packed cell volume', 'total protein']\n",
    "\n",
    "# Read dataset file\n",
    "def read_data(dataset_name):\n",
    "    loc = \"data\\%s\" % (dataset_name)\n",
    "    df = pd.read_csv(loc, sep=\" \", names=colnames, header=None)\n",
    "    df.columns.names = [\"id\"]\n",
    "    df.drop(dropped_colnames, axis=1, inplace=True)\n",
    "    df = df.replace(\"?\", np.nan)\n",
    "    df = df.dropna(subset=[\"outcome\"])\n",
    "    # split into data and target\n",
    "    X, y = df.loc[:, df.columns != \"outcome\"], df.loc[:, \"outcome\"]\n",
    "    return X, y\n",
    "\n",
    "\n",
    "X, y = read_data(\"horse-colic.data\")\n",
    "\n",
    "# Cast Object types to float\n",
    "for col in train_colnames:\n",
    "    X = X.astype({col: float})"
   ]
  },
  {
   "cell_type": "code",
   "execution_count": 2,
   "id": "aacae639-0195-44b3-8963-ebe9e1b980b5",
   "metadata": {},
   "outputs": [],
   "source": [
    "# convert to numpy arrays\n",
    "X_numpy = np.array(X)\n",
    "\n",
    "# encode class values as integers\n",
    "encoder = LabelEncoder()\n",
    "encoder.fit(y)\n",
    "encoded_y = encoder.transform(y)\n",
    "\n",
    "# convert integers to one hot encoded variables\n",
    "hot_y = np_utils.to_categorical(encoded_y)"
   ]
  },
  {
   "cell_type": "code",
   "execution_count": 3,
   "id": "f56d2c03-b3cb-4d4e-97fb-c32cbb168070",
   "metadata": {},
   "outputs": [],
   "source": [
    "# Pre-processing\n",
    "filled_df = X.copy()\n",
    "# Replacing missing values of categorical attributes with the most frequant value\n",
    "cat_fill = filled_df.loc[:, cat_colnames]\n",
    "for col in cat_colnames:\n",
    "    filled_df[cat_colnames] = cat_fill.fillna(filled_df[col].mode()[0])\n",
    "\n",
    "# Replacing missing values of numerical attributes with the mean value\n",
    "filled_df[numerical_colnames] = filled_df[numerical_colnames].fillna(\n",
    "    filled_df[numerical_colnames].mean()\n",
    ")\n",
    "\n",
    "for feature in train_colnames:\n",
    "  le = LabelEncoder()\n",
    "  filled_df[feature] = le.fit_transform(filled_df[feature])\n",
    "\n",
    "# Normalization\n",
    "normalized_df = filled_df.copy()\n",
    "to_norm = normalized_df.loc[:, numerical_colnames]\n",
    "normalized_df[numerical_colnames] = preprocessing.normalize(to_norm)\n",
    "\n",
    "X = normalized_df\n"
   ]
  },
  {
   "cell_type": "code",
   "execution_count": 4,
   "id": "25775cda-0661-4e00-8192-b0bb293533bb",
   "metadata": {},
   "outputs": [
    {
     "name": "stdout",
     "output_type": "stream",
     "text": [
      "Dataset shape is (299, 17)\n",
      "_________________________________________________\n",
      "\n",
      "Dataset info:\n",
      "\n",
      "<class 'pandas.core.frame.DataFrame'>\n",
      "Int64Index: 299 entries, 0 to 299\n",
      "Data columns (total 17 columns):\n",
      " #   Column                      Non-Null Count  Dtype  \n",
      "---  ------                      --------------  -----  \n",
      " 0   surgery                     299 non-null    int64  \n",
      " 1   age                         299 non-null    int64  \n",
      " 2   rectal temperature          299 non-null    float64\n",
      " 3   pulse                       299 non-null    float64\n",
      " 4   respiratory rate            299 non-null    float64\n",
      " 5   temperature of extremities  299 non-null    int64  \n",
      " 6   peripheral pulse            299 non-null    int64  \n",
      " 7   mucous membranes            299 non-null    int64  \n",
      " 8   capillary refill time       299 non-null    int64  \n",
      " 9   pain                        299 non-null    int64  \n",
      " 10  peristalsis                 299 non-null    int64  \n",
      " 11  abdominal distension        299 non-null    int64  \n",
      " 12  packed cell volume          299 non-null    float64\n",
      " 13  total protein               299 non-null    float64\n",
      " 14  surgical lesion             299 non-null    int64  \n",
      " 15  lesion type                 299 non-null    int64  \n",
      " 16  pathology data              299 non-null    int64  \n",
      "dtypes: float64(5), int64(12)\n",
      "memory usage: 42.0 KB\n",
      "\n",
      "_________________________________________________\n",
      "\n",
      "Number of null values for each feature:\n",
      "\n",
      " id\n",
      "surgery                       0\n",
      "age                           0\n",
      "rectal temperature            0\n",
      "pulse                         0\n",
      "respiratory rate              0\n",
      "temperature of extremities    0\n",
      "peripheral pulse              0\n",
      "mucous membranes              0\n",
      "capillary refill time         0\n",
      "pain                          0\n",
      "peristalsis                   0\n",
      "abdominal distension          0\n",
      "packed cell volume            0\n",
      "total protein                 0\n",
      "surgical lesion               0\n",
      "lesion type                   0\n",
      "pathology data                0\n",
      "dtype: int64\n",
      "\n",
      "_________________________________________________\n",
      "\n",
      "id  surgery  age  rectal temperature     pulse  respiratory rate  \\\n",
      "0         1    0            0.448932  0.317993          0.299288   \n",
      "1         0    0            0.333526  0.301249          0.096830   \n",
      "2         1    0            0.667280  0.090993          0.394302   \n",
      "3         0    1            0.388270  0.647117          0.478867   \n",
      "4         1    0            0.158854  0.491004          0.303267   \n",
      "\n",
      "id  temperature of extremities  peripheral pulse  mucous membranes  \\\n",
      "0                            2                 2                 1   \n",
      "1                            1                 1                 3   \n",
      "2                            0                 0                 2   \n",
      "3                            3                 0                 5   \n",
      "4                            1                 1                 5   \n",
      "\n",
      "id  capillary refill time  pain  peristalsis  abdominal distension  \\\n",
      "0                       1     4            3                     3   \n",
      "1                       0     2            3                     1   \n",
      "2                       0     2            2                     0   \n",
      "3                       1     1            3                     3   \n",
      "4                       1     1            1                     1   \n",
      "\n",
      "id  packed cell volume  total protein  surgical lesion  lesion type  \\\n",
      "0             0.392815       0.673397                1           55   \n",
      "1             0.290491       0.839195                1           13   \n",
      "2             0.242647       0.576287                1            0   \n",
      "3             0.323559       0.310616                0           13   \n",
      "4             0.707623       0.375473                1           36   \n",
      "\n",
      "id  pathology data  \n",
      "0                1  \n",
      "1                1  \n",
      "2                0  \n",
      "3                0  \n",
      "4                1  \n"
     ]
    },
    {
     "name": "stderr",
     "output_type": "stream",
     "text": [
      "C:\\Users\\savag\\AppData\\Local\\Programs\\Python\\Python310\\lib\\site-packages\\seaborn\\_decorators.py:36: FutureWarning: Pass the following variable as a keyword arg: x. From version 0.12, the only valid positional argument will be `data`, and passing other arguments without an explicit keyword will result in an error or misinterpretation.\n",
      "  warnings.warn(\n"
     ]
    },
    {
     "data": {
      "text/plain": [
       "<AxesSubplot:xlabel='outcome', ylabel='count'>"
      ]
     },
     "execution_count": 4,
     "metadata": {},
     "output_type": "execute_result"
    },
    {
     "data": {
      "image/png": "[encoded data removed]",
      "text/plain": [
       "<Figure size 432x288 with 1 Axes>"
      ]
     },
     "metadata": {
      "needs_background": "light"
     },
     "output_type": "display_data"
    }
   ],
   "source": [
    "print('Dataset shape is', X.shape)\n",
    "print('_________________________________________________\\n')\n",
    "print('Dataset info:\\n')\n",
    "X.info()\n",
    "print('\\n_________________________________________________\\n')\n",
    "print('Number of null values for each feature:\\n\\n', X.isnull().sum())\n",
    "print('\\n_________________________________________________\\n')\n",
    "print(X.head())\n",
    "sns.countplot(y)"
   ]
  },
  {
   "cell_type": "code",
   "execution_count": 5,
   "id": "d8a7b6bf-7caf-4298-85ea-b2a225e48816",
   "metadata": {},
   "outputs": [],
   "source": [
    "# encode class values as integers\n",
    "encoder = LabelEncoder()\n",
    "encoder.fit(y)\n",
    "y = encoder.transform(y)\n",
    "\n",
    "X_train, X_test, y_train, y_test = train_test_split(\n",
    "             X, y, test_size = 0.2, shuffle=True)"
   ]
  },
  {
   "cell_type": "code",
   "execution_count": 6,
   "id": "e286bf9b-0a24-44d0-9251-78e68c4d55d7",
   "metadata": {},
   "outputs": [
    {
     "name": "stdout",
     "output_type": "stream",
     "text": [
      "Best leaf_size: 1\n",
      "Best p: 1\n",
      "Best n_neighbors: 2\n"
     ]
    }
   ],
   "source": [
    "#List Hyperparameters that we want to tune.\n",
    "leaf_size = list(range(1,50))\n",
    "n_neighbors = list(range(1,30))\n",
    "p=[1,2]\n",
    "#Convert to dictionary\n",
    "hyperparameters = dict(leaf_size=leaf_size, n_neighbors=n_neighbors, p=p)\n",
    "#Create new KNN object\n",
    "knn = KNeighborsClassifier()\n",
    "#Use GridSearch\n",
    "clf = GridSearchCV(knn, hyperparameters, cv=10)\n",
    "#Fit the model\n",
    "best_model = clf.fit(X_train,y_train.ravel())\n",
    "b_leafSize = best_model.best_estimator_.get_params()['leaf_size']\n",
    "b_p = best_model.best_estimator_.get_params()['p']\n",
    "b_nNeighbors = best_model.best_estimator_.get_params()['n_neighbors']\n",
    "#Print The value of best Hyperparameters\n",
    "print('Best leaf_size:', b_leafSize)\n",
    "print('Best p:', b_p)\n",
    "print('Best n_neighbors:', b_nNeighbors)"
   ]
  },
  {
   "cell_type": "code",
   "execution_count": 7,
   "id": "b0c0b0e0-6eec-4957-a871-2a98c16fa4e2",
   "metadata": {},
   "outputs": [
    {
     "name": "stdout",
     "output_type": "stream",
     "text": [
      "1 0.6333333333333333\n",
      "2 0.5833333333333334\n",
      "3 0.55\n",
      "4 0.5833333333333334\n",
      "5 0.6\n",
      "6 0.65\n",
      "7 0.6333333333333333\n",
      "8 0.65\n",
      "9 0.65\n"
     ]
    },
    {
     "data": {
      "image/png": "[encoded data removed]",
      "text/plain": [
       "<Figure size 432x288 with 1 Axes>"
      ]
     },
     "metadata": {
      "needs_background": "light"
     },
     "output_type": "display_data"
    }
   ],
   "source": [
    "neighbors = np.arange(1, 10)\n",
    "train_accuracy = np.empty(len(neighbors))\n",
    "test_accuracy = np.empty(len(neighbors))\n",
    "# Loop over K values\n",
    "for i, k in enumerate(neighbors):\n",
    "    knn = KNeighborsClassifier(n_neighbors=k, leaf_size=b_leafSize, p=b_p)\n",
    "    knn.fit(X_train, y_train)\n",
    "    # Compute training and test data accuracy\n",
    "    train_accuracy[i] = knn.score(X_train, y_train)\n",
    "    test_accuracy[i] = knn.score(X_test, y_test)\n",
    "    print(k, knn.score(X_test, y_test))\n",
    " \n",
    "# Generate plot\n",
    "plt.plot(neighbors, test_accuracy, label = 'Testing dataset Accuracy')\n",
    "plt.plot(neighbors, train_accuracy, label = 'Training dataset Accuracy')\n",
    " \n",
    "plt.legend()\n",
    "plt.xlabel('n_neighbors')\n",
    "plt.ylabel('Accuracy')\n",
    "plt.show()"
   ]
  },
  {
   "cell_type": "code",
   "execution_count": 12,
   "id": "a8147653-baee-490f-ac70-48380db74767",
   "metadata": {},
   "outputs": [
    {
     "data": {
      "image/png": "[encoded data removed]",
      "text/plain": [
       "<Figure size 432x288 with 2 Axes>"
      ]
     },
     "metadata": {
      "needs_background": "light"
     },
     "output_type": "display_data"
    },
    {
     "name": "stdout",
     "output_type": "stream",
     "text": [
      "              precision    recall  f1-score   support\n",
      "\n",
      "           0       0.65      0.91      0.76        33\n",
      "           1       0.60      0.33      0.43        18\n",
      "           2       0.75      0.33      0.46         9\n",
      "\n",
      "    accuracy                           0.65        60\n",
      "   macro avg       0.67      0.53      0.55        60\n",
      "weighted avg       0.65      0.65      0.62        60\n",
      "\n"
     ]
    }
   ],
   "source": [
    "# From results of Hyperparameters tuning \"GridSearchCV\" algorithm for knn alogrith to our dataset, testing and ploting the data\n",
    "# with diffrent n_neighbors. n_neighbors: 8 and 9 proved to be the best\n",
    "knn = KNeighborsClassifier(n_neighbors=k, leaf_size=b_leafSize, p=b_p)\n",
    "knn.fit(X_train, y_train)\n",
    "preds = knn.predict(X_test)\n",
    "\n",
    "cm = confusion_matrix(y_test, preds)\n",
    "\n",
    "disp = ConfusionMatrixDisplay(confusion_matrix=cm)\n",
    "disp.plot()\n",
    "plt.show()\n",
    "\n",
    "print(classification_report(y_test, preds))"
   ]
  },
  {
   "cell_type": "code",
   "execution_count": null,
   "id": "96ca4e20-6b00-46c9-987d-553c12cd45d1",
   "metadata": {},
   "outputs": [],
   "source": []
  }
 ],
 "metadata": {
  "kernelspec": {
   "display_name": "Python 3 (ipykernel)",
   "language": "python",
   "name": "python3"
  },
  "language_info": {
   "codemirror_mode": {
    "name": "ipython",
    "version": 3
   },
   "file_extension": ".py",
   "mimetype": "text/x-python",
   "name": "python",
   "nbconvert_exporter": "python",
   "pygments_lexer": "ipython3",
   "version": "3.10.4"
  }
 },
 "nbformat": 4,
 "nbformat_minor": 5
}
